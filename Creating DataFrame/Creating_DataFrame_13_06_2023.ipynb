{
 "cells": [
  {
   "cell_type": "markdown",
   "id": "8610fc49",
   "metadata": {},
   "source": [
    "## Loading the libraries"
   ]
  },
  {
   "cell_type": "code",
   "execution_count": 1,
   "id": "0275e034",
   "metadata": {},
   "outputs": [],
   "source": [
    "import pandas as pd\n",
    "import numpy as np"
   ]
  },
  {
   "cell_type": "markdown",
   "id": "21a754d2",
   "metadata": {},
   "source": [
    "### Creating Series"
   ]
  },
  {
   "cell_type": "code",
   "execution_count": 2,
   "id": "4ab1b7c2",
   "metadata": {},
   "outputs": [
    {
     "name": "stdout",
     "output_type": "stream",
     "text": [
      "int64\n"
     ]
    }
   ],
   "source": [
    "series=pd.Series([1,2,4])\n",
    "print(series.dtype)"
   ]
  },
  {
   "cell_type": "code",
   "execution_count": 3,
   "id": "93c6765f",
   "metadata": {},
   "outputs": [
    {
     "name": "stdout",
     "output_type": "stream",
     "text": [
      "object\n"
     ]
    }
   ],
   "source": [
    "s2=pd.Series(['asd','dfg','vbn'])\n",
    "print(s2.dtype)"
   ]
  },
  {
   "cell_type": "code",
   "execution_count": 4,
   "id": "39b2d041",
   "metadata": {},
   "outputs": [
    {
     "name": "stdout",
     "output_type": "stream",
     "text": [
      "object\n"
     ]
    }
   ],
   "source": [
    "s3=pd.Series(['asd',True,1,23])\n",
    "print(s3.dtype)"
   ]
  },
  {
   "cell_type": "markdown",
   "id": "702b70ce",
   "metadata": {},
   "source": [
    "### Converting series to list"
   ]
  },
  {
   "cell_type": "code",
   "execution_count": 5,
   "id": "3af7aafa",
   "metadata": {},
   "outputs": [
    {
     "name": "stdout",
     "output_type": "stream",
     "text": [
      "[1, 2, 4]\n"
     ]
    }
   ],
   "source": [
    "print(series.tolist())"
   ]
  },
  {
   "cell_type": "code",
   "execution_count": 6,
   "id": "fc023d6d",
   "metadata": {},
   "outputs": [
    {
     "name": "stdout",
     "output_type": "stream",
     "text": [
      "['asd', 'dfg', 'vbn']\n"
     ]
    }
   ],
   "source": [
    "print(s2.tolist())"
   ]
  },
  {
   "cell_type": "code",
   "execution_count": 7,
   "id": "4bc3c8c6",
   "metadata": {},
   "outputs": [
    {
     "name": "stdout",
     "output_type": "stream",
     "text": [
      "['asd', True, 1, 23]\n"
     ]
    }
   ],
   "source": [
    "print(s3.tolist())"
   ]
  },
  {
   "cell_type": "markdown",
   "id": "d7aa3a1f",
   "metadata": {},
   "source": [
    "### Creating empty DataFrame"
   ]
  },
  {
   "cell_type": "code",
   "execution_count": 8,
   "id": "cd302aa1",
   "metadata": {},
   "outputs": [
    {
     "name": "stdout",
     "output_type": "stream",
     "text": [
      "Empty DataFrame\n",
      "Columns: []\n",
      "Index: []\n"
     ]
    }
   ],
   "source": [
    "df=pd.DataFrame()\n",
    "print(df)"
   ]
  },
  {
   "cell_type": "markdown",
   "id": "e474c302",
   "metadata": {},
   "source": [
    "### Creating DataFrame using list of lists"
   ]
  },
  {
   "cell_type": "code",
   "execution_count": 9,
   "id": "20060b73",
   "metadata": {},
   "outputs": [
    {
     "name": "stdout",
     "output_type": "stream",
     "text": [
      "     Name  Age\n",
      "0     Anu   22\n",
      "1    Suja   53\n",
      "2  Aarohi   23\n",
      "3    Elsa   23\n",
      "4    Maya   67\n"
     ]
    }
   ],
   "source": [
    "names=[['Anu',22],['Suja',53],['Aarohi',23],['Elsa',23],['Maya',67]]\n",
    "df=pd.DataFrame(names,columns=['Name','Age'])\n",
    "print(df)"
   ]
  },
  {
   "cell_type": "markdown",
   "id": "6c3ff730",
   "metadata": {},
   "source": [
    "### Creating DataFrame using Dictionaries"
   ]
  },
  {
   "cell_type": "code",
   "execution_count": 10,
   "id": "e49f4af1",
   "metadata": {},
   "outputs": [
    {
     "name": "stdout",
     "output_type": "stream",
     "text": [
      "     Name  Age\n",
      "0     Anu   23\n",
      "1    Suja   45\n",
      "2  Aarohi   67\n",
      "3    Elsa   45\n",
      "4    Maya   56\n"
     ]
    }
   ],
   "source": [
    "names={'Name':['Anu','Suja','Aarohi','Elsa','Maya'],\\\n",
    "      'Age':[23,45,67,45,56]}\n",
    "df1=pd.DataFrame(names)\n",
    "print(df1)"
   ]
  },
  {
   "cell_type": "markdown",
   "id": "e90a51e8",
   "metadata": {},
   "source": [
    "### Creating DataFrame using list of Dictionaries"
   ]
  },
  {
   "cell_type": "code",
   "execution_count": 11,
   "id": "1654100b",
   "metadata": {
    "scrolled": true
   },
   "outputs": [
    {
     "name": "stdout",
     "output_type": "stream",
     "text": [
      "     Name  Age Gender\n",
      "0     Anu   45      F\n",
      "1    Elsa   23      F\n",
      "2  Akshay   30      M\n",
      "3    Manu   31      M\n",
      "4    Vava   22      F\n"
     ]
    }
   ],
   "source": [
    "names=[{'Name':'Anu','Age':45,'Gender':'F'},\\\n",
    "      {'Name':'Elsa','Age':23,'Gender':'F'},\\\n",
    "       {'Name':'Akshay','Age':30,'Gender':'M'},\\\n",
    "       {'Name':'Manu','Age':31,'Gender':'M'},\\\n",
    "      {'Name':'Vava','Age':22,'Gender':'F'}]\n",
    "df2=pd.DataFrame(names)\n",
    "print(df2)"
   ]
  },
  {
   "cell_type": "markdown",
   "id": "983faf54",
   "metadata": {},
   "source": [
    "### Creating DataFrame using list of Dictionaries with null values"
   ]
  },
  {
   "cell_type": "code",
   "execution_count": 12,
   "id": "eedb5ea0",
   "metadata": {},
   "outputs": [
    {
     "name": "stdout",
     "output_type": "stream",
     "text": [
      "     Name   Age Gender\n",
      "0     Anu  45.0      F\n",
      "1    Elsa  23.0      F\n",
      "2  Akshay  30.0      M\n",
      "3    Manu   NaN    NaN\n",
      "4    Vava   NaN      F\n"
     ]
    }
   ],
   "source": [
    "names1=[{'Name':'Anu','Age':45,'Gender':'F'},\\\n",
    "      {'Name':'Elsa','Age':23,'Gender':'F'},\\\n",
    "       {'Name':'Akshay','Age':30,'Gender':'M'},\\\n",
    "       {'Name':'Manu'},\\\n",
    "      {'Name':'Vava','Gender':'F'}]\n",
    "df3=pd.DataFrame(names1)\n",
    "print(df3)"
   ]
  }
 ],
 "metadata": {
  "kernelspec": {
   "display_name": "Python 3 (ipykernel)",
   "language": "python",
   "name": "python3"
  },
  "language_info": {
   "codemirror_mode": {
    "name": "ipython",
    "version": 3
   },
   "file_extension": ".py",
   "mimetype": "text/x-python",
   "name": "python",
   "nbconvert_exporter": "python",
   "pygments_lexer": "ipython3",
   "version": "3.10.9"
  }
 },
 "nbformat": 4,
 "nbformat_minor": 5
}
